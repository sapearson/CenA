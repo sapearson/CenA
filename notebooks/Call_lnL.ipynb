{
 "cells": [
  {
   "cell_type": "code",
   "execution_count": 1,
   "metadata": {},
   "outputs": [],
   "source": [
    "#imports to be used later on\n",
    "import numpy as np\n",
    "import matplotlib as mpl\n",
    "import matplotlib.pyplot as plt\n",
    "import matplotlib.cm as cm\n",
    "from matplotlib.colors import LogNorm\n",
    "from matplotlib.cm import get_cmap\n",
    "from astropy.io import fits\n",
    "import matplotlib\n",
    "import scipy.ndimage\n",
    "import scipy.interpolate\n",
    "from astropy.table import Table\n",
    "import astropy.units as u\n",
    "%matplotlib inline\n",
    "\n",
    "# gala\n",
    "import gala.coordinates as gc\n",
    "import gala.dynamics as gd\n",
    "import gala.potential as gp\n",
    "from gala.units import galactic\n",
    "import gala.integrate as gi\n",
    "from gala.units import galactic, UnitSystem\n",
    "\n",
    "import astropy.coordinates as coord\n",
    "from astropy.coordinates import SkyOffsetFrame \n",
    "from astropy.wcs import WCS\n",
    "plt.ioff\n",
    "\n",
    "import reproject"
   ]
  },
  {
   "cell_type": "code",
   "execution_count": 2,
   "metadata": {},
   "outputs": [],
   "source": [
    "path = '/Users/spearson/Desktop/Research/CenA/'\n",
    "plot_path = '/Users/spearson/Desktop/Research/CenA/CenA2021/plots/'"
   ]
  },
  {
   "cell_type": "code",
   "execution_count": 3,
   "metadata": {},
   "outputs": [],
   "source": [
    "mpl.rcParams.update({'font.size': 24})\n",
    "label_size = 24\n",
    "mpl.rcParams['xtick.labelsize'] = 18#label_size \n",
    "mpl.rcParams['ytick.labelsize'] =18 #label_size "
   ]
  },
  {
   "cell_type": "markdown",
   "metadata": {},
   "source": [
    "# Data"
   ]
  },
  {
   "cell_type": "code",
   "execution_count": 4,
   "metadata": {},
   "outputs": [],
   "source": [
    "# control points in ICRS\n",
    "centroids = np.genfromtxt(path+'CenA2021/centroids.txt')\n",
    "\n",
    "\n",
    "# maybe later have widths\n",
    "widths_up = np.genfromtxt(path+'CenA2021/widths_up.txt')\n",
    "widths_down = np.genfromtxt(path+'CenA2021/widths_down.txt')\n",
    "c_widths_up =  coord.SkyCoord(widths_up[0,:]*u.deg, \\\n",
    "                             widths_up[1,:]*u.deg)\n",
    "\n",
    "c_widths_down =  coord.SkyCoord(widths_down[0,:]*u.deg, \\\n",
    "                             widths_down[1,:]*u.deg)"
   ]
  },
  {
   "cell_type": "markdown",
   "metadata": {},
   "source": []
  },
  {
   "cell_type": "markdown",
   "metadata": {},
   "source": [
    "\n"
   ]
  },
  {
   "cell_type": "code",
   "execution_count": null,
   "metadata": {},
   "outputs": [],
   "source": []
  },
  {
   "cell_type": "markdown",
   "metadata": {},
   "source": [
    "# Skyoffset frame\n",
    "To make control data points horizontal"
   ]
  },
  {
   "cell_type": "code",
   "execution_count": null,
   "metadata": {},
   "outputs": [],
   "source": []
  },
  {
   "cell_type": "code",
   "execution_count": 5,
   "metadata": {},
   "outputs": [],
   "source": [
    "def cenA_skyoffset(center_coords , angle):\n",
    "    \"\"\"To use this function use data.transform_to(cenA_skyoffset(c_CenA,alpha))\"\"\"\n",
    "    \n",
    "    offset = SkyOffsetFrame(origin=center_coords, rotation=alpha)\n",
    "    return offset"
   ]
  },
  {
   "cell_type": "markdown",
   "metadata": {},
   "source": []
  },
  {
   "cell_type": "code",
   "execution_count": null,
   "metadata": {},
   "outputs": [],
   "source": []
  },
  {
   "cell_type": "markdown",
   "metadata": {},
   "source": [
    "# Simulate stream"
   ]
  },
  {
   "cell_type": "code",
   "execution_count": 6,
   "metadata": {},
   "outputs": [],
   "source": [
    "def generate_stream(prog_pos, vel, dw3_mass, dw3_b, halo_mass, halo_c,t_integrate):\n",
    "\n",
    "    \"\"\"Simulate stream and orbit of progenitor\"\"\"\n",
    "    #should step over these parameters below....\n",
    "    w0 = gd.PhaseSpacePosition(prog_pos.cartesian.xyz.to(u.kpc),\n",
    "                            vel )\n",
    "    pot = gp.NFWPotential.from_M200_c(halo_mass, c=halo_c, units=galactic)\n",
    "   \n",
    "    df = gd.mockstream.FardalStreamDF()\n",
    "    gen = gd.MockStreamGenerator(df, gp.Hamiltonian(pot), \n",
    "                             progenitor_potential=gp.PlummerPotential(m=dw3_mass, \n",
    "                                                                      b=dw3_b, \n",
    "                                                                      units=galactic))\n",
    "    stream_dw3, _ = gen.run(w0, prog_mass=dw3_mass, release_every=3, \n",
    "                    dt=-1*u.Myr, n_steps=t_integrate)\n",
    "    orbit = gp.Hamiltonian(pot).integrate_orbit(w0, dt=-1., n_steps=t_integrate)\n",
    "    \n",
    "    return stream_dw3, orbit"
   ]
  },
  {
   "cell_type": "markdown",
   "metadata": {},
   "source": [
    "# Interpolater"
   ]
  },
  {
   "cell_type": "code",
   "execution_count": 7,
   "metadata": {},
   "outputs": [],
   "source": [
    "step_size = 0.01 #deg\n",
    "\n",
    "def control_interpolate(xlon, ylat , steps):\n",
    "    f = scipy.interpolate.interp1d(x= xlon, y = ylat)\n",
    "    lon_new = np.arange(np.min(xlon), (np.max(xlon)), steps)\n",
    "    lat_new = f(lon_new)\n",
    "    return lon_new,lat_new"
   ]
  },
  {
   "cell_type": "markdown",
   "metadata": {},
   "source": [
    "# Final plot"
   ]
  },
  {
   "cell_type": "code",
   "execution_count": 43,
   "metadata": {},
   "outputs": [],
   "source": [
    "def plot_streamfit_orbit(sim_stream_lon_inter,sim_stream_lat_inter,\\\n",
    "                        stream_lon, stream_lat,sim_lon_n,sim_lat_n,\\\n",
    "                        c_control_offset_lon, c_control_offset_lat,sigma_n,lnL, orbit, stream):\n",
    "    fig, (ax1, ax2) = plt.subplots(1, 2, figsize=(14,7))\n",
    "    ax1.plot(sim_stream_lon_inter ,sim_stream_lat_inter, label='interpolated simulated stream track')\n",
    "\n",
    "\n",
    "    ax1.scatter(stream_lon, stream_lat,\n",
    "            alpha=0.4, s=4, color='lightblue', label='simulated stream stars')\n",
    "\n",
    "\n",
    "    ax1.scatter(sim_lon_n,sim_lat_n,\n",
    "            alpha=1, s=10, color='black', label='n simulation evaluation points')\n",
    "\n",
    "\n",
    "    ax1.errorbar(c_control_offset_lon.deg, c_control_offset_lat.deg,yerr=sigma_n, xerr=None, \\\n",
    "             fmt='.', ecolor='red', color='red',elinewidth=1,markersize=2,label='n data points')#,transform=ax.get_transform('icrs'))\n",
    "\n",
    "    ax1.text(0.3,1.4,'ln$L$ = ' + str(np.round(lnL,2)), color ='red', size=18)\n",
    "\n",
    "    ax1.legend( fontsize=16, loc='best')\n",
    "    ax1.set_xlim([-2,2])\n",
    "    ax1.set_ylim([-2,2])\n",
    "    ax1.set_xlabel('xlon [deg]')\n",
    "    ax1.set_ylabel('ylat [deg]')\n",
    "    \n",
    "    pos_in_time = np.sqrt(orbit.pos.x**2+orbit.pos.y**2+orbit.pos.z**2)\n",
    "    ax2.plot(orbit.t,pos_in_time, label='orbit')\n",
    "    ax2.set_xlabel('time [Myr]')\n",
    "    ax2.set_ylabel('$R_{GC}$ [kpc]')\n",
    "    fig.tight_layout()\n",
    "    \n",
    "    #save plot with info of vel and lnL\n",
    "    fig.savefig(plot_path+'stream_'+ str(np.round(np.sqrt(stream.vel.d_x**2 +\\\n",
    "                                                 stream.vel.d_y**2 + \\\n",
    "                                                 stream.vel.d_z**2).to(u.km/u.second)[0],1).value)+\\\n",
    "            '_km_s_lnL_'+str(np.round(lnL,2))+'.png')"
   ]
  },
  {
   "cell_type": "markdown",
   "metadata": {},
   "source": [
    "# Call lnL function"
   ]
  },
  {
   "cell_type": "code",
   "execution_count": 53,
   "metadata": {},
   "outputs": [],
   "source": [
    "def call_lnL(data , angle, \\\n",
    "             distance,dw_distance ,\\\n",
    "             vel , mass, \\\n",
    "            b , halo_mass , \\\n",
    "             halo_c, t_integrate):\n",
    "    \"\"\"\n",
    "    Function that calculates the lnL of a stream simulation to input control\n",
    "    data from the Dw3 stream in Cen A\n",
    "    \n",
    "    1. Transforms ICRS data from dw3 stream to skyoffset frame\n",
    "    2. Generates Dw3 stream and orbit in CenA GC frame\n",
    "    3. Transforms stream to skyoffset frame centerd on cenA rotated to horizontal stream\n",
    "    4. Fits ridgeline through stream simulation in skyoffset frame\n",
    "    5. Evaluates lnL of generated stream compared to control data points\n",
    "    \"\"\"\n",
    "    #need to define here for class below\n",
    "    CenA_distance = distance\n",
    "    dw3_distance = dw_distance\n",
    "    alpha = angle\n",
    "    \n",
    "    #First use distance to define skycoords of Cen A in ICRS\n",
    "    #Cen A skypos\n",
    "    c_CenA = coord.SkyCoord(ra = 201.365063*u.deg, dec =-43.019113*u.deg,\\\n",
    "                        distance=CenA_distance )\n",
    "\n",
    "    # Ans also the Dw3 in ICRS\n",
    "    # dwarf pos\n",
    "    pos = coord.SkyCoord(ra=202.607*u.deg, dec=-42.2*u.deg,\\\n",
    "                        distance=dw3_distance)\n",
    "    \n",
    "    # First rotate data points to skyoffset frame\n",
    "    c_centroids =  coord.SkyCoord(centroids[0,:]*u.deg, \\\n",
    "                             centroids[1,:]*u.deg)\n",
    "    \n",
    "    c_control_offset_lon = c_centroids.transform_to\\\n",
    "                        (cenA_skyoffset(c_CenA,angle)).lon\n",
    "    c_control_offset_lat =  c_centroids.transform_to\\\n",
    "                        (cenA_skyoffset(c_CenA,angle)).lat\n",
    "\n",
    "   \n",
    "    # Define CenA frame\n",
    "    # Frame to simulate stream in\n",
    "    # Milky Way is along the z-axis x and y axes are \n",
    "    # oriented with the Cen A stream from Dwarf III\n",
    "    # First need galactocentric frame to simulate stream in\n",
    "    class CenAGalactocentric(coord.BaseCoordinateFrame):\n",
    "        \"\"\"\n",
    "        Position at the center of Cen A\n",
    "    \n",
    "        Milky Way is along the z-axis\n",
    "        x and y axes are oriented with the Cen A stream from Dwarf III\n",
    "        \"\"\"\n",
    "\n",
    "        default_representation = coord.CartesianRepresentation\n",
    "        default_differential = coord.CartesianDifferential\n",
    "\n",
    "        # Frame attributes\n",
    "        CenA_sky_coord = coord.CoordinateAttribute(\n",
    "            frame=coord.ICRS,\n",
    "            default=coord.SkyCoord(c_CenA.ra.deg, c_CenA.dec.deg, unit=u.deg)\n",
    "        )\n",
    "    \n",
    "        CenA_distance = coord.QuantityAttribute(\n",
    "            default=CenA_distance,# * u.Mpc,\n",
    "            unit=u.Mpc\n",
    "        )\n",
    "\n",
    "        alpha = coord.QuantityAttribute(\n",
    "            default=alpha,\n",
    "            unit=u.deg\n",
    "        )\n",
    "\n",
    "    #Don't fully understand if I need the below for the angle, I already do this in the skyoffset frame\n",
    "    from astropy.coordinates.matrix_utilities import rotation_matrix\n",
    "\n",
    "    def get_icrs_to_cena_transform(cena_frame, icrs_frame, inverse=False):\n",
    "        \"\"\"\n",
    "        Get the transformation matrix to go from ICRS to Cen A coordinates.\n",
    "    \n",
    "        Note: Currently this only does positions correctly\n",
    "        \"\"\"\n",
    "    \n",
    "        # Rotation matrix to go from CenA to ICRS\n",
    "        Rz = rotation_matrix(-cena_frame.CenA_sky_coord.ra, 'z')\n",
    "        Ry = rotation_matrix(cena_frame.CenA_sky_coord.dec, 'y')\n",
    "        Rx = rotation_matrix(cena_frame.alpha, 'x')\n",
    "        R = Rz @ Ry @ Rx\n",
    "    \n",
    "        # Positional offset to the center of Cen A (from ICRS)\n",
    "        dpos = coord.CartesianRepresentation(cena_frame.CenA_distance * [1., 0, 0])\n",
    "\n",
    "        if inverse:  # Cen A to ICRS\n",
    "            A = R\n",
    "            b = (dpos).transform(A)\n",
    "\n",
    "        else:  # ICRS to Cen A\n",
    "            A = R.T\n",
    "            b = -dpos\n",
    "\n",
    "        return A, b\n",
    "\n",
    "\n",
    "    @coord.frame_transform_graph.transform(\n",
    "        coord.transformations.AffineTransform,\n",
    "        coord.ICRS,\n",
    "        CenAGalactocentric\n",
    "    )\n",
    "    def icrs_to_cena(icrs_coord, cena_frame):\n",
    "        return get_icrs_to_cena_transform(cena_frame, icrs_coord)\n",
    "\n",
    "\n",
    "    @coord.frame_transform_graph.transform(\n",
    "        coord.transformations.AffineTransform,\n",
    "        CenAGalactocentric,\n",
    "        coord.ICRS\n",
    "    )\n",
    "    def cena_to_icrs(cena_coord, icrs_frame):\n",
    "        return get_icrs_to_cena_transform(cena_coord, icrs_frame, inverse=True)\n",
    "    \n",
    "    \n",
    "    # Use CenA Galactocentric frame to get stream progentor pos\n",
    "    dw3_pos_GC = pos.transform_to(CenAGalactocentric())\n",
    "    print('dw3 present day pos: ' + str(dw3_pos_GC))\n",
    "    \n",
    "    # Generate stream and orbit of progentiro\n",
    "    stream, orbit = generate_stream(prog_pos = dw3_pos_GC, vel=vel, dw3_mass=mass, \\\n",
    "                                    dw3_b=b, halo_mass=halo_mass,\\\n",
    "                                    halo_c=halo_c,t_integrate=t_integrate)\n",
    "    \n",
    "    \n",
    "    #Transform the stream from Galactic frame to CenA centered and rotated frame\n",
    "    cena_stream = CenAGalactocentric(stream.pos.with_differentials(stream.vel))\n",
    "    cena_stream_icrs = cena_stream.transform_to(coord.ICRS())\n",
    "\n",
    "    stream_lon = cena_stream_icrs.transform_to(cenA_skyoffset(center_coords = \\\n",
    "                                                              c_CenA, angle = angle)).lon\n",
    "    stream_lat = cena_stream_icrs.transform_to(cenA_skyoffset(center_coords = \\\n",
    "                                                              c_CenA, angle = angle)).lat\n",
    "   \n",
    "\n",
    "    # Fit ridgeline through stream for stream to data comparison\n",
    "    # bin size\n",
    "    d_xlon = 0.15 #deg\n",
    "\n",
    "    xlon = np.arange(np.min(stream_lon.deg), np.max(stream_lon.deg), d_xlon)\n",
    "    #center, bc = bin center\n",
    "    xlon_bc = 0.5*(xlon[1:] + xlon[:-1])\n",
    "\n",
    "    #number of bins \n",
    "    Nb = np.size(xlon_bc) \n",
    "    ylat_med = np.zeros(Nb)#*u.deg\n",
    "    #print(Nb)\n",
    "\n",
    "    for i in range(Nb):\n",
    "        ind = (stream_lon.value>xlon[i]) & (stream_lon.value<=xlon[i+1])# & tout['grz_mask'] & concave_mask\n",
    "        ylat_med[i] = np.median(stream_lat.value[ind])\n",
    "    \n",
    "    # Interpolate so I have stream track at each xlon value\n",
    "    \n",
    "    sim_stream_lon_inter ,sim_stream_lat_inter =\\\n",
    "                                    control_interpolate(xlon = xlon_bc, ylat = ylat_med,\\\n",
    "                                    steps = step_size )\n",
    "    \n",
    "    # Now only grab the interpolated stream track at the xlon values of the input data\n",
    "    idx = np.zeros(len(sim_stream_lon_inter), dtype=bool)\n",
    "    #for all interpolated stream star track values, grab data ones\n",
    "    for i in range(len(sim_stream_lon_inter)): \n",
    "        #number of data points\n",
    "        for j in range(len(c_control_offset_lon.deg)): \n",
    "            if np.abs(sim_stream_lon_inter[i] - c_control_offset_lon[j].deg)<step_size/2:\n",
    "                #these indices are the ones to grab for stream track\n",
    "                idx[i] = True \n",
    "       \n",
    "    #new points for the simulated stream track at same value as data\n",
    "    sim_lon_n = sim_stream_lon_inter[idx] \n",
    "    sim_lat_n = sim_stream_lat_inter[idx]\n",
    "    \n",
    "    # Now compute lnL function\n",
    "    # We look at difference between simulated stream track and the input data and its \n",
    "    # vertical errors\n",
    "    Delta_n = np.abs(c_control_offset_lat.deg - sim_lat_n)\n",
    "    #the sigma_n is the error in the vertical direction\n",
    "    # for now they are just all 0.01 deg\n",
    "    sigma_n = np.ones(len( c_control_offset_lat.deg))*0.01\n",
    "\n",
    "    Chi_2 = np.sum(Delta_n**2/sigma_n**2 )\n",
    "    lnL = -0.5 * (Chi_2)\n",
    "    print('lnL = ' + str(np.round(lnL,2)))\n",
    "    \n",
    "    #Produce final output plot\n",
    "    plot_streamfit_orbit(sim_stream_lon_inter,sim_stream_lat_inter,\\\n",
    "                        stream_lon, stream_lat,sim_lon_n,sim_lat_n,\\\n",
    "                        c_control_offset_lon, c_control_offset_lat,sigma_n,lnL, orbit, stream)\n",
    "    \n",
    "    return \"plot saved in: \" + str(plot_path)"
   ]
  },
  {
   "cell_type": "markdown",
   "metadata": {},
   "source": [
    "# Free input parameters.\n",
    "Can change when we call \"lnL function\""
   ]
  },
  {
   "cell_type": "code",
   "execution_count": 58,
   "metadata": {},
   "outputs": [],
   "source": [
    "# distance to CenA\n",
    "CenA_distance = 3.8*u.Mpc# 3.8*u.Mpc\n",
    "dw3_distance = 3.88* u.Mpc# #If I set to 1.8Mpc, there's a problem in xlon interpolation\n",
    "#problem: right now coordinate frame shifts with CenA distance\n",
    "\n",
    "#rotation to horizontal stream\n",
    "alpha = 50*u.deg\n",
    "\n",
    "#dwarf properties\n",
    "dw3_mass = 1e7*u.Msun\n",
    "dw3_b = 0.5 *u.kpc\n",
    "dw3_vel = [0, 300, 0]* u.km/u.s\n",
    "nsteps = 4000 #Myr\n",
    "\n",
    "#halo properties\n",
    "m_halo = 2.e12*u.Msun\n",
    "c_halo= 15"
   ]
  },
  {
   "cell_type": "markdown",
   "metadata": {},
   "source": [
    "# Run\n"
   ]
  },
  {
   "cell_type": "code",
   "execution_count": 59,
   "metadata": {},
   "outputs": [
    {
     "name": "stdout",
     "output_type": "stream",
     "text": [
      "dw3 present day pos: <SkyCoord (CenAGalactocentric: CenA_sky_coord=<ICRS Coordinate: (ra, dec) in deg\n",
      "    (201.365063, -43.019113)>, CenA_distance=3.8 Mpc, alpha=50.0 deg): (x, y, z) in Mpc\n",
      "    (-0.92066074, -0.00155347, 0.0616685)>\n"
     ]
    },
    {
     "ename": "ValueError",
     "evalue": "A value in x_new is above the interpolation range.",
     "output_type": "error",
     "traceback": [
      "\u001b[0;31m------------------------------------------------------------------------\u001b[0m",
      "\u001b[0;31mValueError\u001b[0m                             Traceback (most recent call last)",
      "\u001b[0;32m<ipython-input-59-0666d397af36>\u001b[0m in \u001b[0;36m<module>\u001b[0;34m\u001b[0m\n\u001b[0;32m----> 1\u001b[0;31m call_lnL(data = centroids, angle = alpha, distance = CenA_distance,dw_distance= dw3_distance, \\\n\u001b[0m\u001b[1;32m      2\u001b[0m                           \u001b[0mvel\u001b[0m \u001b[0;34m=\u001b[0m \u001b[0mdw3_vel\u001b[0m\u001b[0;34m,\u001b[0m \u001b[0mmass\u001b[0m\u001b[0;34m=\u001b[0m\u001b[0mdw3_mass\u001b[0m\u001b[0;34m,\u001b[0m\u001b[0;31m \u001b[0m\u001b[0;31m \u001b[0m\u001b[0;31m \u001b[0m\u001b[0;31m\\\u001b[0m\u001b[0;34m\u001b[0m\u001b[0;34m\u001b[0m\u001b[0m\n\u001b[1;32m      3\u001b[0m                          \u001b[0mb\u001b[0m \u001b[0;34m=\u001b[0m \u001b[0mdw3_b\u001b[0m\u001b[0;34m,\u001b[0m \u001b[0mhalo_mass\u001b[0m \u001b[0;34m=\u001b[0m \u001b[0mm_halo\u001b[0m\u001b[0;34m,\u001b[0m \u001b[0mhalo_c\u001b[0m\u001b[0;34m=\u001b[0m \u001b[0mc_halo\u001b[0m\u001b[0;34m,\u001b[0m\u001b[0;31m\\\u001b[0m\u001b[0;34m\u001b[0m\u001b[0;34m\u001b[0m\u001b[0m\n\u001b[1;32m      4\u001b[0m                          t_integrate=nsteps)\n\u001b[1;32m      5\u001b[0m \u001b[0;34m\u001b[0m\u001b[0m\n",
      "\u001b[0;32m<ipython-input-53-be82728d0c7f>\u001b[0m in \u001b[0;36mcall_lnL\u001b[0;34m(data, angle, distance, dw_distance, vel, mass, b, halo_mass, halo_c, t_integrate)\u001b[0m\n\u001b[1;32m    159\u001b[0m \u001b[0;34m\u001b[0m\u001b[0m\n\u001b[1;32m    160\u001b[0m     \u001b[0msim_stream_lon_inter\u001b[0m \u001b[0;34m,\u001b[0m\u001b[0msim_stream_lat_inter\u001b[0m \u001b[0;34m=\u001b[0m\u001b[0;31m\\\u001b[0m\u001b[0;34m\u001b[0m\u001b[0;34m\u001b[0m\u001b[0m\n\u001b[0;32m--> 161\u001b[0;31m                                     control_interpolate(xlon = xlon_bc, ylat = ylat_med,\\\n\u001b[0m\u001b[1;32m    162\u001b[0m                                     steps = step_size )\n\u001b[1;32m    163\u001b[0m \u001b[0;34m\u001b[0m\u001b[0m\n",
      "\u001b[0;32m<ipython-input-7-7b8a0c2f23a0>\u001b[0m in \u001b[0;36mcontrol_interpolate\u001b[0;34m(xlon, ylat, steps)\u001b[0m\n\u001b[1;32m      4\u001b[0m     \u001b[0mf\u001b[0m \u001b[0;34m=\u001b[0m \u001b[0mscipy\u001b[0m\u001b[0;34m.\u001b[0m\u001b[0minterpolate\u001b[0m\u001b[0;34m.\u001b[0m\u001b[0minterp1d\u001b[0m\u001b[0;34m(\u001b[0m\u001b[0mx\u001b[0m\u001b[0;34m=\u001b[0m \u001b[0mxlon\u001b[0m\u001b[0;34m,\u001b[0m \u001b[0my\u001b[0m \u001b[0;34m=\u001b[0m \u001b[0mylat\u001b[0m\u001b[0;34m)\u001b[0m\u001b[0;34m\u001b[0m\u001b[0;34m\u001b[0m\u001b[0m\n\u001b[1;32m      5\u001b[0m     \u001b[0mlon_new\u001b[0m \u001b[0;34m=\u001b[0m \u001b[0mnp\u001b[0m\u001b[0;34m.\u001b[0m\u001b[0marange\u001b[0m\u001b[0;34m(\u001b[0m\u001b[0mnp\u001b[0m\u001b[0;34m.\u001b[0m\u001b[0mmin\u001b[0m\u001b[0;34m(\u001b[0m\u001b[0mxlon\u001b[0m\u001b[0;34m)\u001b[0m\u001b[0;34m,\u001b[0m \u001b[0;34m(\u001b[0m\u001b[0mnp\u001b[0m\u001b[0;34m.\u001b[0m\u001b[0mmax\u001b[0m\u001b[0;34m(\u001b[0m\u001b[0mxlon\u001b[0m\u001b[0;34m)\u001b[0m\u001b[0;34m)\u001b[0m\u001b[0;34m,\u001b[0m \u001b[0msteps\u001b[0m\u001b[0;34m)\u001b[0m\u001b[0;34m\u001b[0m\u001b[0;34m\u001b[0m\u001b[0m\n\u001b[0;32m----> 6\u001b[0;31m     \u001b[0mlat_new\u001b[0m \u001b[0;34m=\u001b[0m \u001b[0mf\u001b[0m\u001b[0;34m(\u001b[0m\u001b[0mlon_new\u001b[0m\u001b[0;34m)\u001b[0m\u001b[0;34m\u001b[0m\u001b[0;34m\u001b[0m\u001b[0m\n\u001b[0m\u001b[1;32m      7\u001b[0m     \u001b[0;32mreturn\u001b[0m \u001b[0mlon_new\u001b[0m\u001b[0;34m,\u001b[0m\u001b[0mlat_new\u001b[0m\u001b[0;34m\u001b[0m\u001b[0;34m\u001b[0m\u001b[0m\n",
      "\u001b[0;32m~/opt/anaconda3/lib/python3.8/site-packages/scipy/interpolate/polyint.py\u001b[0m in \u001b[0;36m__call__\u001b[0;34m(self, x)\u001b[0m\n\u001b[1;32m     72\u001b[0m         \"\"\"\n\u001b[1;32m     73\u001b[0m         \u001b[0mx\u001b[0m\u001b[0;34m,\u001b[0m \u001b[0mx_shape\u001b[0m \u001b[0;34m=\u001b[0m \u001b[0mself\u001b[0m\u001b[0;34m.\u001b[0m\u001b[0m_prepare_x\u001b[0m\u001b[0;34m(\u001b[0m\u001b[0mx\u001b[0m\u001b[0;34m)\u001b[0m\u001b[0;34m\u001b[0m\u001b[0;34m\u001b[0m\u001b[0m\n\u001b[0;32m---> 74\u001b[0;31m         \u001b[0my\u001b[0m \u001b[0;34m=\u001b[0m \u001b[0mself\u001b[0m\u001b[0;34m.\u001b[0m\u001b[0m_evaluate\u001b[0m\u001b[0;34m(\u001b[0m\u001b[0mx\u001b[0m\u001b[0;34m)\u001b[0m\u001b[0;34m\u001b[0m\u001b[0;34m\u001b[0m\u001b[0m\n\u001b[0m\u001b[1;32m     75\u001b[0m         \u001b[0;32mreturn\u001b[0m \u001b[0mself\u001b[0m\u001b[0;34m.\u001b[0m\u001b[0m_finish_y\u001b[0m\u001b[0;34m(\u001b[0m\u001b[0my\u001b[0m\u001b[0;34m,\u001b[0m \u001b[0mx_shape\u001b[0m\u001b[0;34m)\u001b[0m\u001b[0;34m\u001b[0m\u001b[0;34m\u001b[0m\u001b[0m\n\u001b[1;32m     76\u001b[0m \u001b[0;34m\u001b[0m\u001b[0m\n",
      "\u001b[0;32m~/opt/anaconda3/lib/python3.8/site-packages/scipy/interpolate/interpolate.py\u001b[0m in \u001b[0;36m_evaluate\u001b[0;34m(self, x_new)\u001b[0m\n\u001b[1;32m    657\u001b[0m         \u001b[0my_new\u001b[0m \u001b[0;34m=\u001b[0m \u001b[0mself\u001b[0m\u001b[0;34m.\u001b[0m\u001b[0m_call\u001b[0m\u001b[0;34m(\u001b[0m\u001b[0mself\u001b[0m\u001b[0;34m,\u001b[0m \u001b[0mx_new\u001b[0m\u001b[0;34m)\u001b[0m\u001b[0;34m\u001b[0m\u001b[0;34m\u001b[0m\u001b[0m\n\u001b[1;32m    658\u001b[0m         \u001b[0;32mif\u001b[0m \u001b[0;32mnot\u001b[0m \u001b[0mself\u001b[0m\u001b[0;34m.\u001b[0m\u001b[0m_extrapolate\u001b[0m\u001b[0;34m:\u001b[0m\u001b[0;34m\u001b[0m\u001b[0;34m\u001b[0m\u001b[0m\n\u001b[0;32m--> 659\u001b[0;31m             \u001b[0mbelow_bounds\u001b[0m\u001b[0;34m,\u001b[0m \u001b[0mabove_bounds\u001b[0m \u001b[0;34m=\u001b[0m \u001b[0mself\u001b[0m\u001b[0;34m.\u001b[0m\u001b[0m_check_bounds\u001b[0m\u001b[0;34m(\u001b[0m\u001b[0mx_new\u001b[0m\u001b[0;34m)\u001b[0m\u001b[0;34m\u001b[0m\u001b[0;34m\u001b[0m\u001b[0m\n\u001b[0m\u001b[1;32m    660\u001b[0m             \u001b[0;32mif\u001b[0m \u001b[0mlen\u001b[0m\u001b[0;34m(\u001b[0m\u001b[0my_new\u001b[0m\u001b[0;34m)\u001b[0m \u001b[0;34m>\u001b[0m \u001b[0;36m0\u001b[0m\u001b[0;34m:\u001b[0m\u001b[0;34m\u001b[0m\u001b[0;34m\u001b[0m\u001b[0m\n\u001b[1;32m    661\u001b[0m                 \u001b[0;31m# Note fill_value must be broadcast up to the proper size\u001b[0m\u001b[0;34m\u001b[0m\u001b[0;34m\u001b[0m\u001b[0;34m\u001b[0m\u001b[0m\n",
      "\u001b[0;32m~/opt/anaconda3/lib/python3.8/site-packages/scipy/interpolate/interpolate.py\u001b[0m in \u001b[0;36m_check_bounds\u001b[0;34m(self, x_new)\u001b[0m\n\u001b[1;32m    689\u001b[0m                              \"range.\")\n\u001b[1;32m    690\u001b[0m         \u001b[0;32mif\u001b[0m \u001b[0mself\u001b[0m\u001b[0;34m.\u001b[0m\u001b[0mbounds_error\u001b[0m \u001b[0;32mand\u001b[0m \u001b[0mabove_bounds\u001b[0m\u001b[0;34m.\u001b[0m\u001b[0many\u001b[0m\u001b[0;34m(\u001b[0m\u001b[0;34m)\u001b[0m\u001b[0;34m:\u001b[0m\u001b[0;34m\u001b[0m\u001b[0;34m\u001b[0m\u001b[0m\n\u001b[0;32m--> 691\u001b[0;31m             raise ValueError(\"A value in x_new is above the interpolation \"\n\u001b[0m\u001b[1;32m    692\u001b[0m                              \"range.\")\n\u001b[1;32m    693\u001b[0m \u001b[0;34m\u001b[0m\u001b[0m\n",
      "\u001b[0;31mValueError\u001b[0m: A value in x_new is above the interpolation range."
     ]
    }
   ],
   "source": [
    "call_lnL(data = centroids, angle = alpha, distance = CenA_distance,dw_distance= dw3_distance, \\\n",
    "                          vel = dw3_vel, mass=dw3_mass,   \\\n",
    "                         b = dw3_b, halo_mass = m_halo, halo_c= c_halo,\\\n",
    "                         t_integrate=nsteps)\n",
    "\n"
   ]
  },
  {
   "cell_type": "code",
   "execution_count": null,
   "metadata": {},
   "outputs": [],
   "source": []
  },
  {
   "cell_type": "code",
   "execution_count": null,
   "metadata": {},
   "outputs": [],
   "source": []
  },
  {
   "cell_type": "code",
   "execution_count": null,
   "metadata": {},
   "outputs": [],
   "source": [
    "#_ = stream.plot(alpha=0.25, s=4, color='lightblue')"
   ]
  },
  {
   "cell_type": "code",
   "execution_count": null,
   "metadata": {},
   "outputs": [],
   "source": [
    "#fig = orbit.plot()"
   ]
  },
  {
   "cell_type": "code",
   "execution_count": null,
   "metadata": {},
   "outputs": [],
   "source": []
  }
 ],
 "metadata": {
  "kernelspec": {
   "display_name": "Python 3",
   "language": "python",
   "name": "python3"
  },
  "language_info": {
   "codemirror_mode": {
    "name": "ipython",
    "version": 3
   },
   "file_extension": ".py",
   "mimetype": "text/x-python",
   "name": "python",
   "nbconvert_exporter": "python",
   "pygments_lexer": "ipython3",
   "version": "3.8.5"
  }
 },
 "nbformat": 4,
 "nbformat_minor": 4
}
